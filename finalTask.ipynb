{
  "nbformat": 4,
  "nbformat_minor": 0,
  "metadata": {
    "colab": {
      "provenance": [],
      "authorship_tag": "ABX9TyMBT37SMevTKMgzvNiFpnqM",
      "include_colab_link": true
    },
    "kernelspec": {
      "name": "python3",
      "display_name": "Python 3"
    },
    "language_info": {
      "name": "python"
    }
  },
  "cells": [
    {
      "cell_type": "markdown",
      "metadata": {
        "id": "view-in-github",
        "colab_type": "text"
      },
      "source": [
        "<a href=\"https://colab.research.google.com/github/Khushibung05/TEKWORKS/blob/main/finalTask.ipynb\" target=\"_parent\"><img src=\"https://colab.research.google.com/assets/colab-badge.svg\" alt=\"Open In Colab\"/></a>"
      ]
    },
    {
      "cell_type": "code",
      "execution_count": 36,
      "metadata": {
        "colab": {
          "base_uri": "https://localhost:8080/"
        },
        "id": "6bAyPEGx8ScG",
        "outputId": "aa1b7f3a-3fc0-40ef-9f7a-48405b0f9bf7"
      },
      "outputs": [
        {
          "output_type": "stream",
          "name": "stdout",
          "text": [
            "[10 11 12 13 14 15 16 17 18 19 20 21 22 23 24 25 26 27 28 29 30 31 32 33\n",
            " 34 35 36 37 38 39 40 41 42 43 44 45 46 47 48 49 50]\n",
            "[[0.79288505 0.28687766 0.63553501]\n",
            " [0.55027271 0.6806896  0.37982572]\n",
            " [0.79315403 0.67356175 0.82773401]]\n",
            "shape:(3, 3)\n",
            "size:9\n",
            "dimension:2\n",
            "datatype:float64\n",
            "a+5: [15 16 17 18 19 20 21 22 23 24 25 26 27 28 29 30 31 32 33 34 35 36 37 38\n",
            " 39 40 41 42 43 44 45 46 47 48 49 50 51 52 53 54 55]\n",
            "m1+m2:[[ 5 12]\n",
            " [21 32]]\n",
            "5x5 2D array: [[ 1  2  3  4  5]\n",
            " [ 6  7  8  9 10]\n",
            " [11 12 13 14 15]\n",
            " [16 17 18 19 20]\n",
            " [21 22 23 24 25]]\n",
            "first row: [1 2 3 4 5]\n",
            "last column: [ 5 10 15 20 25]\n",
            "sub array: [[ 1  2]\n",
            " [ 6  7]\n",
            " [11 12]]\n",
            "random integers in 10-100 [87 86 87 56 31 48 88 59 67 58]\n",
            "max: 88\n",
            "min: 31\n",
            "mean: 66.7\n",
            "std: 18.7725863961256\n",
            "reshape: [[ 1  2  3  4]\n",
            " [ 5  6  7  8]\n",
            " [ 9 10 11 12]]\n",
            "broadcasted [[2. 3. 4.]\n",
            " [2. 3. 4.]\n",
            " [2. 3. 4.]]\n",
            "array: [ 5 21 22 49 15 11 11 10 19 26]\n",
            "ele divisible by 5: [ 5 15 10]\n",
            "matrix multiplication: [[19 22]\n",
            " [43 50]]\n",
            "[[ 1  2  3  4]\n",
            " [ 5  6  7  8]\n",
            " [ 9 10 11 12]\n",
            " [13 14 15 16]]\n",
            "diagonal elements: [ 1  6 11 16]\n",
            "[ 1  6 11 16]\n"
          ]
        }
      ],
      "source": [
        "import numpy as np\n",
        "a=np.arange(10,51)\n",
        "print(a)\n",
        "r=np.random.random((3,3))\n",
        "print(r)\n",
        "print(f\"shape:{r.shape}\")\n",
        "print(f\"size:{r.size}\")\n",
        "print(f\"dimension:{r.ndim}\")\n",
        "print(f\"datatype:{r.dtype}\")\n",
        "#Add 5 to every element of a 1D array.\n",
        "print(\"a+5:\",a+5)\n",
        "#Multiply two 2D arrays element-wise.\n",
        "m1=np.array([[1,2],[3,4]])\n",
        "m2=np.array([[5,6],[7,8]])\n",
        "print(f\"m1+m2:{m1*m2}\")\n",
        "#Create a 5x5 array of integers from 1 to 25. Extract:\n",
        "#The first row.\n",
        "#The last column.\n",
        "#A subarray of the first three rows and first two columns.\n",
        "index_slice=np.arange(1,26)\n",
        "mat=index_slice.reshape(5,5)\n",
        "print(\"5x5 2D array:\",mat)\n",
        "print(\"first row:\",mat[0])\n",
        "print(\"last column:\",mat[:,-1])\n",
        "print(\"sub array:\",mat[0:3,0:2])\n",
        "#Create a 10-element array of random integers between 10 and 100. Find:\n",
        "#The maximum value.\n",
        "#The minimum value.\n",
        "#The mean and standard deviation.\n",
        "arr10=np.random.randint(10,100,10)\n",
        "print(\"random integers in 10-100\",arr10)\n",
        "print(\"max:\",np.max(arr10))\n",
        "print(\"min:\",np.min(arr10))\n",
        "print(\"mean:\",np.mean(arr10))\n",
        "print(\"std:\",np.std(arr10))\n",
        "#Reshaping:Convert a 1D array of numbers from 1 to 12 into a 3x4 matrix.\n",
        "a1_12=np.arange(1,13)\n",
        "converted=a1_12.reshape(3,4)\n",
        "print(\"reshape:\",converted)\n",
        "#Broadcasting:Create a 3x3 matrix of ones. Add a 1D array [1, 2, 3] to each row.\n",
        "ones=np.ones((3,3))\n",
        "arr1=[1,2,3]\n",
        "print(\"broadcasted\",ones+arr1)\n",
        "#Filtering:Create a 1D array of random integers between 1 and 50. Extract all elements that are divisible by 5.\n",
        "a1_50=np.random.randint(1,50,10)\n",
        "print(\"array:\",a1_50)\n",
        "print(\"ele divisible by 5:\",a1_50[a1_50%5==0])\n",
        "#Matrix Multiplication:Create two 2x2 matrices and perform matrix multiplication.\n",
        "m1=np.array([[1,2],[3,4]])\n",
        "m2=np.array([[5,6],[7,8]])\n",
        "print(\"matrix multiplication:\",np.dot(m1,m2))\n",
        "#Advanced Indexing:Given a 4x4 array, use fancy indexing to extract the diagonal elements.\n",
        "arr=np.arange(1,17).reshape(4,4)\n",
        "print(arr)\n",
        "diag=arr.diagonal()\n",
        "print(\"diagonal elements:\",diag)\n",
        "#diag=arr[np.arange(4),np.arange(4)]\n",
        "diag=arr[[0,1,2,3],[0,1,2,3]]\n",
        "print(diag)"
      ]
    }
  ]
}