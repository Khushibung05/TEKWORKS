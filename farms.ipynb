{
  "nbformat": 4,
  "nbformat_minor": 0,
  "metadata": {
    "colab": {
      "provenance": [],
      "authorship_tag": "ABX9TyNKCAgOD5VpzslIP0rSSfVB",
      "include_colab_link": true
    },
    "kernelspec": {
      "name": "python3",
      "display_name": "Python 3"
    },
    "language_info": {
      "name": "python"
    }
  },
  "cells": [
    {
      "cell_type": "markdown",
      "metadata": {
        "id": "view-in-github",
        "colab_type": "text"
      },
      "source": [
        "<a href=\"https://colab.research.google.com/github/Khushibung05/TEKWORKS/blob/main/farms.ipynb\" target=\"_parent\"><img src=\"https://colab.research.google.com/assets/colab-badge.svg\" alt=\"Open In Colab\"/></a>"
      ]
    },
    {
      "cell_type": "code",
      "execution_count": 11,
      "metadata": {
        "colab": {
          "base_uri": "https://localhost:8080/"
        },
        "id": "J34SdATvybIV",
        "outputId": "7a0a027c-7f69-4c8f-d401-ee3691ffc112"
      },
      "outputs": [
        {
          "output_type": "stream",
          "name": "stdout",
          "text": [
            "production: [[[10 12 11]\n",
            "  [ 9 11 10]\n",
            "  [12 13 14]\n",
            "  [ 8  7  9]]\n",
            "\n",
            " [[20 19 21]\n",
            "  [18 20 19]\n",
            "  [22 23 21]\n",
            "  [17 18 16]]\n",
            "\n",
            " [[15 16 14]\n",
            "  [14 13 15]\n",
            "  [16 17 18]\n",
            "  [12 11 13]]]\n",
            "shape: (3, 4, 3)\n",
            "size: 36\n",
            "dtype: int64\n",
            "ndim: 3\n",
            "total energy per farm [126 234 174]\n",
            "mean per farm: [10.5 19.5 14.5]\n",
            "std per farm: [1.97905701 1.97905701 1.97905701]\n",
            "var per farm: [3.91666667 3.91666667 3.91666667]\n",
            "[[25.25 23.   29.5  17.75]\n",
            " [44.75 43.25 49.75 38.5 ]\n",
            " [34.   31.25 38.5  26.75]]\n",
            "[[[10 12 11]\n",
            "  [ 9 11 10]\n",
            "  [12 13 14]\n",
            "  [ 8  7  9]]\n",
            "\n",
            " [[20 19 21]\n",
            "  [18 20 19]\n",
            "  [22 23 21]\n",
            "  [17 18 16]]\n",
            "\n",
            " [[15 16 14]\n",
            "  [14 13 15]\n",
            "  [16 17 18]\n",
            "  [12 11 13]]]\n",
            "[[[-0.25264558  0.75793673  0.25264558]\n",
            "  [-0.75793673  0.25264558 -0.25264558]\n",
            "  [ 0.75793673  1.26322788  1.76851903]\n",
            "  [-1.26322788 -1.76851903 -0.75793673]]\n",
            "\n",
            " [[ 0.25264558 -0.25264558  0.75793673]\n",
            "  [-0.75793673  0.25264558 -0.25264558]\n",
            "  [ 1.26322788  1.76851903  0.75793673]\n",
            "  [-1.26322788 -0.75793673 -1.76851903]]\n",
            "\n",
            " [[ 0.25264558  0.75793673 -0.25264558]\n",
            "  [-0.25264558 -0.75793673  0.25264558]\n",
            "  [ 0.75793673  1.26322788  1.76851903]\n",
            "  [-1.26322788 -1.76851903 -0.75793673]]]\n",
            "[[33 30 39 24]\n",
            " [60 57 66 51]\n",
            " [45 42 51 36]]\n",
            "[ True False  True]\n",
            "534\n"
          ]
        }
      ],
      "source": [
        "import numpy as np\n",
        "farmA=np.array([[10,12,11],[9,11,10],[12,13,14],[8,7,9]])\n",
        "farmB=np.array([[20,19,21],[18,20,19],[22,23,21],[17,18,16]])\n",
        "farmC=np.array([[15,16,14],[14,13,15],[16,17,18],[12,11,13]])\n",
        "production_all=np.array([farmA,farmB,farmC])\n",
        "print(\"production:\",production_all)\n",
        "print(\"shape:\",production_all.shape)\n",
        "print(\"size:\",production_all.size)\n",
        "print(\"dtype:\",production_all.dtype)\n",
        "print(\"ndim:\",production_all.ndim)\n",
        "#Use aggregation ufuncs to compute the total energy per farm (sum across panels & hours) → total_per_farm (shape (3,)).\n",
        "total_per_farm=np.sum(production_all,axis=(1,2))\n",
        "print(\"total energy per farm\",total_per_farm)\n",
        "#Compute mean, std, and var per farm.\n",
        "print(\"mean per farm:\",np.mean(production_all,axis=(1,2)))\n",
        "print(\"std per farm:\",np.std(production_all,axis=(1,2)))\n",
        "print(\"var per farm:\",np.var(production_all,axis=(1,2)))\n",
        "hour_weights=np.array([0.5, 1.0, 0.75])\n",
        "weighted_per_panel=np.dot(production_all,hour_weights)\n",
        "print(weighted_per_panel)\n",
        "#The operator notices a fixed calibration offset of +0.5 kWh for all panels in Farm B. Use broadcasting to add this offset to Farm B data inside production_all (without recreating whole array manually)\n",
        "production_all[1,:,:]=production_all[1,:,:]+0.5\n",
        "print(production_all)\n",
        "#Compute a normalized version where you: subtract the per-farm mean (use broadcasting),divide by the per-farm std (broadcasting) — i.e., z-score normalize each farm's panel-hour readings.\n",
        "mean_per_farm=np.mean(production_all,axis=(1,2),keepdims=True)\n",
        "std_per_farm=np.std(production_all,axis=(1,2),keepdims=True)\n",
        "normalized_per_farm=(production_all-mean_per_farm)/std_per_farm\n",
        "print(normalized_per_farm)\n",
        "#Use broadcasting to compute a (3,4) array panel_totals_per_farm = total per panel (sum across hours for each panel)\n",
        "panel_totals_per_farm=np.sum(production_all,axis=2)\n",
        "print(panel_totals_per_farm)\n",
        "#boolean needs_maintenance saying True if any panel in that farm has total < 40. Use np.min, np.max, np.any, np.all\n",
        "needs_maintenance=np.any(panel_totals_per_farm<40,axis=1)\n",
        "print(needs_maintenance)\n",
        "#overall_total (sum of all farms)\n",
        "overall_total=np.sum(production_all)\n",
        "print(overall_total)\n"
      ]
    },
    {
      "cell_type": "code",
      "source": [],
      "metadata": {
        "id": "r87S0S8GycW6"
      },
      "execution_count": null,
      "outputs": []
    }
  ]
}