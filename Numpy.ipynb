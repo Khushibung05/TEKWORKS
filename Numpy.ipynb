{
  "nbformat": 4,
  "nbformat_minor": 0,
  "metadata": {
    "colab": {
      "provenance": [],
      "authorship_tag": "ABX9TyNoTg8wNPrf8cO+2VPmZIDU",
      "include_colab_link": true
    },
    "kernelspec": {
      "name": "python3",
      "display_name": "Python 3"
    },
    "language_info": {
      "name": "python"
    }
  },
  "cells": [
    {
      "cell_type": "markdown",
      "metadata": {
        "id": "view-in-github",
        "colab_type": "text"
      },
      "source": [
        "<a href=\"https://colab.research.google.com/github/Khushibung05/TEKWORKS/blob/main/Numpy.ipynb\" target=\"_parent\"><img src=\"https://colab.research.google.com/assets/colab-badge.svg\" alt=\"Open In Colab\"/></a>"
      ]
    },
    {
      "cell_type": "code",
      "execution_count": 1,
      "metadata": {
        "id": "k8mSn7uNJBLw"
      },
      "outputs": [],
      "source": [
        "import numpy as np"
      ]
    },
    {
      "cell_type": "code",
      "source": [
        "b=np.array(42)\n",
        "a=np.array([[1,2,3],[1,2,3]])\n",
        "print(a.ndim)\n",
        "print(a.shape)\n",
        "print(a.size)\n",
        "print(a.dtype)\n",
        "zeros=np.zeros((3,2))\n",
        "print(zeros)\n",
        "ones=np.ones((2,3,3))\n",
        "print(ones)\n",
        "identity=np.eye(3)\n",
        "print(identity)\n",
        "range_arr=np.arange(0,10,2)\n",
        "print(range_arr)\n",
        "rand=np.random.random((2,3,3))\n",
        "print(rand)"
      ],
      "metadata": {
        "colab": {
          "base_uri": "https://localhost:8080/"
        },
        "id": "tZSRCAcQJSb3",
        "outputId": "f77ae9eb-484b-4893-88c5-6a4bb28aea26"
      },
      "execution_count": 20,
      "outputs": [
        {
          "output_type": "stream",
          "name": "stdout",
          "text": [
            "2\n",
            "(2, 3)\n",
            "6\n",
            "int64\n",
            "[[0. 0.]\n",
            " [0. 0.]\n",
            " [0. 0.]]\n",
            "[[[1. 1. 1.]\n",
            "  [1. 1. 1.]\n",
            "  [1. 1. 1.]]\n",
            "\n",
            " [[1. 1. 1.]\n",
            "  [1. 1. 1.]\n",
            "  [1. 1. 1.]]]\n",
            "[[1. 0. 0.]\n",
            " [0. 1. 0.]\n",
            " [0. 0. 1.]]\n",
            "[0 2 4 6 8]\n",
            "[[[0.86195637 0.27097825 0.15239552]\n",
            "  [0.58237492 0.66955796 0.52524417]\n",
            "  [0.18850505 0.29377482 0.71757042]]\n",
            "\n",
            " [[0.08295089 0.86862205 0.93137938]\n",
            "  [0.03714685 0.63349979 0.04280622]\n",
            "  [0.96406573 0.95279921 0.69447155]]]\n"
          ]
        }
      ]
    },
    {
      "cell_type": "code",
      "source": [
        "temp_data=np.array([[27,25,20],[24,26,23]])\n",
        "print(temp_data)\n",
        "print(temp_data.ndim)\n",
        "print(temp_data.shape)\n",
        "print(temp_data.size)\n",
        "print(temp_data.dtype)\n",
        "GH3=np.array([21,23,22])\n",
        "updated_temp_data = np.vstack([temp_data, GH3])\n",
        "print(updated_temp_data)\n",
        "sensor_error_flags=np.zeros((2,3))\n",
        "greenhouse_identity=np.eye(3)\n",
        "print(sensor_error_flags)\n",
        "print(greenhouse_identity)\n"
      ],
      "metadata": {
        "colab": {
          "base_uri": "https://localhost:8080/"
        },
        "id": "aiCyrCgpJnXi",
        "outputId": "d1888b5a-021e-4e88-d9f7-25dd7d258348"
      },
      "execution_count": 14,
      "outputs": [
        {
          "output_type": "stream",
          "name": "stdout",
          "text": [
            "[[27 25 20]\n",
            " [24 26 23]]\n",
            "2\n",
            "(2, 3)\n",
            "6\n",
            "int64\n",
            "[[27 25 20]\n",
            " [24 26 23]\n",
            " [21 23 22]]\n",
            "[[0. 0. 0.]\n",
            " [0. 0. 0.]]\n",
            "[[1. 0. 0.]\n",
            " [0. 1. 0.]\n",
            " [0. 0. 1.]]\n"
          ]
        }
      ]
    },
    {
      "cell_type": "code",
      "source": [
        "#indexing\n",
        "a=np.array([[1,2,3],[4,5,6]])\n",
        "print(a[0,1])\n",
        "print(a[1,-1])\n",
        "#slicing\n",
        "print(a[0:,1:])\n",
        "print(a[0:1])\n",
        "print(a[1:3,0:2])"
      ],
      "metadata": {
        "colab": {
          "base_uri": "https://localhost:8080/"
        },
        "id": "0HqZMfE2K_Ek",
        "outputId": "4a28039e-894f-4a62-b99d-d6dc63ddc5d8"
      },
      "execution_count": 27,
      "outputs": [
        {
          "output_type": "stream",
          "name": "stdout",
          "text": [
            "2\n",
            "6\n",
            "[[2 3]\n",
            " [5 6]]\n",
            "[[1 2 3]]\n",
            "[[4 5]]\n"
          ]
        }
      ]
    },
    {
      "cell_type": "code",
      "source": [
        "#rows=no. of shipments of each fruit type\n",
        "#cols=mon,tue,wed,thurs,fri,sat,sun\n",
        "shipments=np.array([[50,60,55,70,65,80,90],[40,45,58,90,55,70,75]])\n",
        "#no. of apples shipped on wednesday\n",
        "print(shipments[0,2])\n",
        "#no. of oranghes shipped on sunday\n",
        "print(shipments[1,6])\n",
        "#Extract all the weekday shipments (Mon–Fri) for all fruits\n",
        "print(shipments[:,0:5])#all rows\n",
        "#Extract only the weekend shipments (Sat & Sun).\n",
        "print(shipments[:,5:7])\n",
        "#Extract the shipments of Apples from Wednesday to Saturday.\n",
        "print(shipments[0:1,2:6])\n",
        "#Replace the Saturday shipment of Apples (currently 80) with 100 using indexing.\n",
        "shipments[0,5]=100\n",
        "print(shipments)\n"
      ],
      "metadata": {
        "colab": {
          "base_uri": "https://localhost:8080/"
        },
        "id": "FUBmr1ZJNlE_",
        "outputId": "0cf49646-c1dc-4e43-8189-7561e9f400aa"
      },
      "execution_count": 30,
      "outputs": [
        {
          "output_type": "stream",
          "name": "stdout",
          "text": [
            "55\n",
            "75\n",
            "[[50 60 55 70 65]\n",
            " [40 45 58 90 55]]\n",
            "[[80 90]\n",
            " [70 75]]\n",
            "[[55 70 65 80]]\n",
            "[[ 50  60  55  70  65 100  90]\n",
            " [ 40  45  58  90  55  70  75]]\n"
          ]
        }
      ]
    },
    {
      "cell_type": "code",
      "source": [
        "a=np.array([1,2,3])\n",
        "b=np.array([4,5,6])\n",
        "#arithmetic element wise operations\n",
        "print(a+b)#ewise add\n",
        "print(a*b)#ewise mul\n",
        "print(a*2)#scalar\n",
        "print(a-b)\n",
        "print(a/b)\n",
        "print(b//a)\n",
        "print(a%b)\n"
      ],
      "metadata": {
        "colab": {
          "base_uri": "https://localhost:8080/"
        },
        "id": "mN-4bu8QRMog",
        "outputId": "cc3ee1b7-d0ee-43fd-c800-d304c26b9a6c"
      },
      "execution_count": 33,
      "outputs": [
        {
          "output_type": "stream",
          "name": "stdout",
          "text": [
            "[5 7 9]\n",
            "[ 4 10 18]\n",
            "[2 4 6]\n",
            "[-3 -3 -3]\n",
            "[0.25 0.4  0.5 ]\n",
            "[4 2 2]\n",
            "[1 2 3]\n"
          ]
        }
      ]
    },
    {
      "cell_type": "code",
      "source": [
        "a=np.array([[1,2,3],[4,5,6],[7,8,9]])\n",
        "b=np.array([[4,5,6],[7,8,9],[1,2,3]])\n",
        "print(a+b)#ewise add\n",
        "print(a*b)#ewise mul\n",
        "print(a*2)#scalar\n",
        "print(a-b)\n",
        "print(a/b)\n",
        "print(\"floor div:\",b//a)\n",
        "print(a%b)\n",
        "#matrix oprn fns\n",
        "print(np.add(a,b))\n",
        "print(np.subtract(a,b))\n",
        "print(np.multiply(a,b))\n",
        "print(np.divide(a,b))\n",
        "print(np.mod(a,b))\n",
        "print(np.dot(a,b))#shapes must be compatible for product"
      ],
      "metadata": {
        "colab": {
          "base_uri": "https://localhost:8080/"
        },
        "id": "Qa4j4OFvYCO3",
        "outputId": "16a94b32-45ec-4921-9853-166a40c06d0b"
      },
      "execution_count": 37,
      "outputs": [
        {
          "output_type": "stream",
          "name": "stdout",
          "text": [
            "[[ 5  7  9]\n",
            " [11 13 15]\n",
            " [ 8 10 12]]\n",
            "[[ 4 10 18]\n",
            " [28 40 54]\n",
            " [ 7 16 27]]\n",
            "[[ 2  4  6]\n",
            " [ 8 10 12]\n",
            " [14 16 18]]\n",
            "[[-3 -3 -3]\n",
            " [-3 -3 -3]\n",
            " [ 6  6  6]]\n",
            "[[0.25       0.4        0.5       ]\n",
            " [0.57142857 0.625      0.66666667]\n",
            " [7.         4.         3.        ]]\n",
            "floor div: [[4 2 2]\n",
            " [1 1 1]\n",
            " [0 0 0]]\n",
            "[[1 2 3]\n",
            " [4 5 6]\n",
            " [0 0 0]]\n",
            "[[ 5  7  9]\n",
            " [11 13 15]\n",
            " [ 8 10 12]]\n",
            "[[-3 -3 -3]\n",
            " [-3 -3 -3]\n",
            " [ 6  6  6]]\n",
            "[[ 4 10 18]\n",
            " [28 40 54]\n",
            " [ 7 16 27]]\n",
            "[[0.25       0.4        0.5       ]\n",
            " [0.57142857 0.625      0.66666667]\n",
            " [7.         4.         3.        ]]\n",
            "[[1 2 3]\n",
            " [4 5 6]\n",
            " [0 0 0]]\n",
            "[[ 21  27  33]\n",
            " [ 57  72  87]\n",
            " [ 93 117 141]]\n"
          ]
        }
      ]
    },
    {
      "cell_type": "code",
      "source": [
        "#broadcasting-elewise\n",
        "a=np.array([[1,2,3],[4,5,6]])\n",
        "b=np.array([[4,5,6],[7,8,9]])\n",
        "c=4\n",
        "print(a+b)#ewise add\n",
        "print(a*b)#ewise mul\n",
        "print(a+c)"
      ],
      "metadata": {
        "colab": {
          "base_uri": "https://localhost:8080/"
        },
        "id": "ytcletmCXvnb",
        "outputId": "5f1e646b-566a-4d53-843d-064747fe5608"
      },
      "execution_count": 38,
      "outputs": [
        {
          "output_type": "stream",
          "name": "stdout",
          "text": [
            "[[ 5  7  9]\n",
            " [11 13 15]]\n",
            "[[ 4 10 18]\n",
            " [28 40 54]]\n",
            "[[ 5  6  7]\n",
            " [ 8  9 10]]\n"
          ]
        }
      ]
    },
    {
      "cell_type": "code",
      "source": [
        "#ufuncs\n",
        "x=np.array([[1,2.4,3.6],[4,5,6],[7,8.5,9]])\n",
        "y=np.array([[4,5,6],[7.8,8.3,9],[1,2.4,3]])\n",
        "# Arithmetic ufuncs\n",
        "#Operate element-wise on arrays.\n",
        "np.add(x, y)\n",
        "np.subtract(x, y)\n",
        "np.multiply(x, y)\n",
        "np.divide(x, y)\n",
        "np.power(x, y)\n",
        "np.mod(x, y)\n",
        "# 2. Exponential and Logarithmic ufuncs\n",
        "#(You already covered these)\n",
        "np.exp(x)\n",
        "np.log(x)\n",
        "np.log10(x)\n",
        "np.log2(x)\n",
        "np.expm1(x)    # exp(x) - 1\n",
        "# 3. Trigonometric ufuncs\n",
        "np.sin(x)\n",
        "np.cos(x)\n",
        "np.tan(x)\n",
        "np.arcsin(x)\n",
        "np.arccos(x)\n",
        "np.arctan(x)\n",
        "np.degrees(x)\n",
        "np.radians(x)\n",
        "# 4. Rounding ufuncs\n",
        "np.round(x)\n",
        "np.floor(x)\n",
        "np.ceil(x)\n",
        "np.trunc(x)\n",
        "# 5. Statistical ufuncs\n",
        "#(Operate along an axis or entire array)\n",
        "np.min(x)\n",
        "np.max(x)\n",
        "np.mean(x)\n",
        "np.std(x)\n",
        "np.var(x)\n",
        "np.sum(x)\n",
        "np.prod(x)\n",
        "# 6. Logical ufuncs\n",
        "np.logical_and(x, y)\n",
        "np.logical_or(x, y)\n",
        "np.logical_not(x)\n",
        "np.logical_xor(x, y)\n",
        "print(\" 7. Comparison ufuncs\")\n",
        "#(Return Boolean arrays)\n",
        "np.greater(x, y)\n",
        "np.less(x, y)\n",
        "np.equal(x, y)\n",
        "np.not_equal(x, y)\n",
        "np.greater_equal(x, y)\n",
        "np.less_equal(x, y)\n",
        "print(\" 8. Bitwise ufuncs\")\n",
        "#(Operate on integers)\n",
        "np.bitwise_and(x, y)\n",
        "np.bitwise_or(x, y)\n",
        "np.bitwise_xor(x, y)\n",
        "np.invert(x)"
      ],
      "metadata": {
        "id": "RuZkrva4aOiv"
      },
      "execution_count": null,
      "outputs": []
    },
    {
      "cell_type": "code",
      "source": [
        "#reshaping\n",
        "a=np.arange(1,10)\n",
        "print(a)\n",
        "b=a.reshape(3,3)\n",
        "print(b)"
      ],
      "metadata": {
        "colab": {
          "base_uri": "https://localhost:8080/"
        },
        "id": "LTX-weT-d7Ch",
        "outputId": "48552769-7b1f-493e-cfe5-7765d6933302"
      },
      "execution_count": 55,
      "outputs": [
        {
          "output_type": "stream",
          "name": "stdout",
          "text": [
            "[1 2 3 4 5 6 7 8 9]\n",
            "[[1 2 3]\n",
            " [4 5 6]\n",
            " [7 8 9]]\n"
          ]
        }
      ]
    },
    {
      "cell_type": "code",
      "source": [
        "#stacking and splitting\n",
        "a=np.array([1,2])\n",
        "b=np.array([3,4])\n",
        "print(np.vstack((a,b)))\n",
        "print(np.hstack((a,b)))\n",
        "c=np.array([1,2,3,4,5,6])\n",
        "print(np.array_split(c,3))\n",
        "print(np.array_split(c,7))"
      ],
      "metadata": {
        "colab": {
          "base_uri": "https://localhost:8080/"
        },
        "id": "YQZ2eZ-3es9S",
        "outputId": "2ecd1141-084e-4fa8-de41-e82ac13ee583"
      },
      "execution_count": 63,
      "outputs": [
        {
          "output_type": "stream",
          "name": "stdout",
          "text": [
            "[[1 2]\n",
            " [3 4]]\n",
            "[1 2 3 4]\n",
            "[array([1, 2]), array([3, 4]), array([5, 6])]\n",
            "[array([1]), array([2]), array([3]), array([4]), array([5]), array([6]), array([], dtype=int64)]\n"
          ]
        }
      ]
    },
    {
      "cell_type": "code",
      "source": [
        "#advanced indexing\n",
        "arr=np.array([1,2,3,4,5])\n",
        "print(arr[arr>3])\n",
        "ind=[0,2]\n",
        "print(arr[ind])"
      ],
      "metadata": {
        "colab": {
          "base_uri": "https://localhost:8080/"
        },
        "id": "egw7smA33fzo",
        "outputId": "34b299ba-378e-4f2d-87dd-a6cbc1b261d9"
      },
      "execution_count": 64,
      "outputs": [
        {
          "output_type": "stream",
          "name": "stdout",
          "text": [
            "[4 5]\n",
            "[1 3]\n"
          ]
        }
      ]
    },
    {
      "cell_type": "code",
      "source": [
        "#view and copy\n",
        "arr=np.array([1,2,3])\n",
        "view=arr.view()\n",
        "view[0]=10\n",
        "print(arr)\n",
        "arr=np.array([1,2,3])\n",
        "copy=arr.copy()\n",
        "copy[0]=10\n",
        "print(arr)"
      ],
      "metadata": {
        "colab": {
          "base_uri": "https://localhost:8080/"
        },
        "id": "Hp8KC6JO5h3Y",
        "outputId": "fb972345-8bb2-44d2-91f7-b2fde18aca82"
      },
      "execution_count": 65,
      "outputs": [
        {
          "output_type": "stream",
          "name": "stdout",
          "text": [
            "[10  2  3]\n",
            "[1 2 3]\n"
          ]
        }
      ]
    },
    {
      "cell_type": "code",
      "source": [
        "#saving and loading\n",
        "arr=np.array([1,2,3])\n",
        "np.save('array.npy',arr)\n",
        "loaded_arr=np.load('array.npy')\n",
        "print(loaded_arr)"
      ],
      "metadata": {
        "colab": {
          "base_uri": "https://localhost:8080/"
        },
        "id": "M2U8LRvp6mzl",
        "outputId": "f79e632d-8b9b-4552-d409-4c4aa971f2f6"
      },
      "execution_count": 67,
      "outputs": [
        {
          "output_type": "stream",
          "name": "stdout",
          "text": [
            "[1 2 3]\n"
          ]
        }
      ]
    },
    {
      "cell_type": "code",
      "source": [],
      "metadata": {
        "id": "thqbS13f7ekD"
      },
      "execution_count": null,
      "outputs": []
    }
  ]
}